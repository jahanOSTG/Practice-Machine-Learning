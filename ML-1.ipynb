{
  "metadata": {
    "kernelspec": {
      "name": "python",
      "display_name": "Python (Pyodide)",
      "language": "python"
    },
    "language_info": {
      "codemirror_mode": {
        "name": "python",
        "version": 3
      },
      "file_extension": ".py",
      "mimetype": "text/x-python",
      "name": "python",
      "nbconvert_exporter": "python",
      "pygments_lexer": "ipython3",
      "version": "3.8"
    }
  },
  "nbformat_minor": 5,
  "nbformat": 4,
  "cells": [
    {
      "id": "ad61e912-7c9e-4069-b5a7-b0694ba94ce0",
      "cell_type": "markdown",
      "source": "## mean() find average",
      "metadata": {}
    },
    {
      "id": "47be66dd-0bf7-423b-bcfa-cc665b371cf7",
      "cell_type": "code",
      "source": "import numpy as np\n",
      "metadata": {
        "trusted": true
      },
      "outputs": [],
      "execution_count": 3
    },
    {
      "id": "1e09afba-61f5-40bd-831a-92c1f83f651e",
      "cell_type": "code",
      "source": "weight=[76,34,234,67,43,121,56,43,23,265,76,4,3,288,55,65,21,56,632,23]\nx=np.mean(weight)\nprint(x)",
      "metadata": {
        "trusted": true
      },
      "outputs": [
        {
          "name": "stdout",
          "output_type": "stream",
          "text": "109.25\n"
        }
      ],
      "execution_count": 4
    },
    {
      "id": "aeeb7d2b-3d47-48c8-89f8-fe894da9423e",
      "cell_type": "markdown",
      "source": "### median() middle value:",
      "metadata": {}
    },
    {
      "id": "d5af4d33-6049-4031-b4da-0dd851bda889",
      "cell_type": "code",
      "source": "y=np.median(weight)\nprint(y)",
      "metadata": {
        "trusted": true
      },
      "outputs": [
        {
          "name": "stdout",
          "output_type": "stream",
          "text": "56.0\n"
        }
      ],
      "execution_count": 5
    },
    {
      "id": "afe037d5-0958-4314-bc8e-4616a15d8288",
      "cell_type": "code",
      "source": "from scipy import stats",
      "metadata": {
        "trusted": true
      },
      "outputs": [],
      "execution_count": 6
    },
    {
      "id": "f6f96312-9c5d-4d58-8cc0-4649e78d8228",
      "cell_type": "code",
      "source": "z=stats.mode(weight)\nprint(z)",
      "metadata": {
        "trusted": true
      },
      "outputs": [
        {
          "name": "stdout",
          "output_type": "stream",
          "text": "ModeResult(mode=np.int32(23), count=np.int32(2))\n"
        }
      ],
      "execution_count": 11
    },
    {
      "id": "f7b1a549-2db9-48cd-9b86-dc6a687345df",
      "cell_type": "markdown",
      "source": "### standard deviation()",
      "metadata": {}
    },
    {
      "id": "8c16d453-486c-4bd0-aa29-c25eafb3dcfb",
      "cell_type": "code",
      "source": "a=np.std(weight)\nprint(a)",
      "metadata": {
        "trusted": true
      },
      "outputs": [
        {
          "name": "stdout",
          "output_type": "stream",
          "text": "144.77909897495564\n"
        }
      ],
      "execution_count": 12
    },
    {
      "id": "4cfc84bd-ff11-4370-8871-34ca0e5be0f5",
      "cell_type": "markdown",
      "source": "### variance",
      "metadata": {}
    },
    {
      "id": "479e4be3-e9c9-4225-97a8-036f292b2931",
      "cell_type": "code",
      "source": "a=np.var(weight)\nprint(a)",
      "metadata": {
        "trusted": true
      },
      "outputs": [
        {
          "name": "stdout",
          "output_type": "stream",
          "text": "20960.9875\n"
        }
      ],
      "execution_count": 13
    },
    {
      "id": "20b97574-2f2e-41b4-b514-af1c94f691ba",
      "cell_type": "markdown",
      "source": "# mode()",
      "metadata": {}
    },
    {
      "id": "d3b7e497-e041-4fb2-9843-43e4c157ecf0",
      "cell_type": "code",
      "source": "\n\na=stats.mode(weight)\nprint(a)",
      "metadata": {
        "trusted": true
      },
      "outputs": [
        {
          "name": "stdout",
          "output_type": "stream",
          "text": "ModeResult(mode=np.int32(23), count=np.int32(2))\n"
        }
      ],
      "execution_count": 16
    },
    {
      "id": "ccc464bb-cf74-4a3a-b15f-9a8ab6e21607",
      "cell_type": "code",
      "source": "a=np.percentile(weight,50)\nprint(a)",
      "metadata": {
        "trusted": true
      },
      "outputs": [
        {
          "name": "stdout",
          "output_type": "stream",
          "text": "56.0\n"
        }
      ],
      "execution_count": 19
    },
    {
      "id": "63d9e641-8ff1-4ed5-8fdc-2262abc33749",
      "cell_type": "code",
      "source": "a=np.percentile(weight,90)\nprint(a)",
      "metadata": {
        "trusted": true
      },
      "outputs": [
        {
          "name": "stdout",
          "output_type": "stream",
          "text": "267.3\n"
        }
      ],
      "execution_count": 20
    },
    {
      "id": "203e7d48-8d8a-45f5-88f4-3fad0b9cc386",
      "cell_type": "code",
      "source": "",
      "metadata": {
        "trusted": true
      },
      "outputs": [],
      "execution_count": null
    }
  ]
}